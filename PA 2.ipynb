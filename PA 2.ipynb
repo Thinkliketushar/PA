{
 "cells": [
  {
   "cell_type": "markdown",
   "id": "fde97524",
   "metadata": {},
   "source": [
    "# Q1. What is the relationship between classes and modules?\n",
    "An object is anything that you wish to manipulate or change while working through the code. Every time a class object is instantiated, which is when we declare a variable, a new object is initiated from scratch. we can consider a module to be the same as a code library or a file that contains a set of functions/Classes that you want to include in your application."
   ]
  },
  {
   "cell_type": "markdown",
   "id": "6f0bdf9f",
   "metadata": {},
   "source": [
    "# Q2. How do you make instances and classes?\n",
    "For creating a class instance. we call a class by its name and pass the arguments which its __init__ method accepts."
   ]
  },
  {
   "cell_type": "code",
   "execution_count": 1,
   "id": "919f4547",
   "metadata": {},
   "outputs": [],
   "source": [
    "class Employee:\n",
    "    def __init__(self, gender,salary):\n",
    "        self.gender = gender\n",
    "        self.salary = salary"
   ]
  },
  {
   "cell_type": "markdown",
   "id": "bfa356de",
   "metadata": {},
   "source": [
    "# Q3. Where and how should be class attributes created?\n",
    "Instance attributes are not shared by all objects of the classs. instead each object maintains its own copy of instance attributes at object level. whereas incase of class attributes all instances of class refer to a single copy. Usually instance attributes are defined within the __init__ method of class"
   ]
  },
  {
   "cell_type": "markdown",
   "id": "393ba107",
   "metadata": {},
   "source": [
    "# Q5. What does the term \"self\" in a Python class mean?\n",
    "self represents the instance of the class (it represents the object itself)"
   ]
  },
  {
   "cell_type": "markdown",
   "id": "4fd8eab5",
   "metadata": {},
   "source": [
    "# Q6. How does a Python class handle operator overloading?\n",
    "Python Classes handle operator overloading by using special methods called Magic methods. these special methods usually begin and end with __ (double underscore)"
   ]
  },
  {
   "cell_type": "markdown",
   "id": "c5062499",
   "metadata": {},
   "source": [
    "# Q7. When do you consider allowing operator overloading of your classes?\n",
    "When we want to have different meaning for the same operator accroding to the context we use operator overloading."
   ]
  },
  {
   "cell_type": "markdown",
   "id": "115ec9e7",
   "metadata": {},
   "source": [
    "# Q8. What is the most popular form of operator overloading?\n",
    "The most popular form of operator overloading in python is by special methods called Magic methods. Which usually beign and end with double underscore __<method name>__."
   ]
  },
  {
   "cell_type": "markdown",
   "id": "686f5214",
   "metadata": {},
   "source": [
    "# Q9. What are the two most important concepts to grasp in order to comprehend Python OOP code?\n",
    "Classes and objects are the two concepts to comprehend python OOP code as more formally objects are entities that represent instances of general abstract concept called class\n",
    "\n",
    "Along with classes and objects the important concepts to grasp are:\n",
    "\n",
    "Inheritence\n",
    "Abstraction\n",
    "Polymorphism\n",
    "Encapsulation"
   ]
  },
  {
   "cell_type": "code",
   "execution_count": null,
   "id": "7e8e9d36",
   "metadata": {},
   "outputs": [],
   "source": []
  }
 ],
 "metadata": {
  "kernelspec": {
   "display_name": "Python 3 (ipykernel)",
   "language": "python",
   "name": "python3"
  },
  "language_info": {
   "codemirror_mode": {
    "name": "ipython",
    "version": 3
   },
   "file_extension": ".py",
   "mimetype": "text/x-python",
   "name": "python",
   "nbconvert_exporter": "python",
   "pygments_lexer": "ipython3",
   "version": "3.9.12"
  }
 },
 "nbformat": 4,
 "nbformat_minor": 5
}
