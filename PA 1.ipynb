{
 "cells": [
  {
   "cell_type": "markdown",
   "id": "605e0a2e",
   "metadata": {},
   "source": [
    "# Q1. What is the purpose of Python&#39;s OOP?\n",
    "- It aims to implement real-world entities like inheritance, polymorphisms, encapsulation, etc.\n",
    "- It helps to divide our over all program into different small segments\n",
    "- Helps in easy maintenance\n",
    "- Multiple instances of an object can be made."
   ]
  },
  {
   "cell_type": "markdown",
   "id": "c929f463",
   "metadata": {},
   "source": [
    "# Q2. Where does an inheritance search look for an attribute?\n",
    " it first searches for the attribute in its instance and then looks in the class"
   ]
  },
  {
   "cell_type": "markdown",
   "id": "79488645",
   "metadata": {},
   "source": [
    "# Q3. How do you distinguish between a class object and an instance object?\n",
    "Class is a template for creating objects whereas object is an instance of class"
   ]
  },
  {
   "cell_type": "markdown",
   "id": "0b583422",
   "metadata": {},
   "source": [
    "# Q4. What makes the first argument in a class’s method function special?\n",
    "- self is the first argument for instance methods. which refers to the object itself\n",
    "- cls is the first argument for class methods which refers to the class itself"
   ]
  },
  {
   "cell_type": "markdown",
   "id": "c5dd9f99",
   "metadata": {},
   "source": [
    "# Q5. What is the purpose of the __init__ method?\n",
    "__init__ is a reseved method in python classes. It serves the role of a constructor in object oriented terminology."
   ]
  },
  {
   "cell_type": "markdown",
   "id": "d32c4a5a",
   "metadata": {},
   "source": [
    "# Q6. What is the process for creating a class instance?\n",
    "To create a class instance, we need to call the class by its name and pass the arguments to the class, which its init method accepts."
   ]
  },
  {
   "cell_type": "markdown",
   "id": "bfd603e5",
   "metadata": {},
   "source": [
    "# Q7. What is the process for creating a class?\n",
    "class student:"
   ]
  },
  {
   "cell_type": "markdown",
   "id": "0156192a",
   "metadata": {},
   "source": [
    "# Q8. How would you define the superclasses of a class?\n",
    "super class and parents class are same we need to make a class then make a child class so the main class is super class or parents class.\n"
   ]
  },
  {
   "cell_type": "code",
   "execution_count": null,
   "id": "b750a866",
   "metadata": {},
   "outputs": [],
   "source": []
  }
 ],
 "metadata": {
  "kernelspec": {
   "display_name": "Python 3 (ipykernel)",
   "language": "python",
   "name": "python3"
  },
  "language_info": {
   "codemirror_mode": {
    "name": "ipython",
    "version": 3
   },
   "file_extension": ".py",
   "mimetype": "text/x-python",
   "name": "python",
   "nbconvert_exporter": "python",
   "pygments_lexer": "ipython3",
   "version": "3.9.12"
  }
 },
 "nbformat": 4,
 "nbformat_minor": 5
}
